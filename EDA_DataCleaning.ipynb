{
 "cells": [
  {
   "cell_type": "code",
   "execution_count": 1,
   "metadata": {
    "collapsed": false
   },
   "outputs": [],
   "source": [
    "import pandas as pd\n",
    "import numpy as np\n",
    "import matplotlib as plt\n",
    "import seaborn as sb\n",
    "import matplotlib.pyplot as plt\n",
    "%matplotlib inline"
   ]
  },
  {
   "cell_type": "markdown",
   "metadata": {},
   "source": [
    "** Reading in the file into a Pandas DataFrame and plotting the target variable **"
   ]
  },
  {
   "cell_type": "code",
   "execution_count": 2,
   "metadata": {
    "collapsed": false
   },
   "outputs": [
    {
     "data": {
      "text/plain": [
       "<matplotlib.axes._subplots.AxesSubplot at 0x24baffa5eb8>"
      ]
     },
     "execution_count": 2,
     "metadata": {},
     "output_type": "execute_result"
    },
    {
     "data": {
      "image/png": "[encoded data removed]",
      "text/plain": [
       "<Figure size 432x288 with 1 Axes>"
      ]
     },
     "metadata": {},
     "output_type": "display_data"
    }
   ],
   "source": [
    "df = pd.read_csv(\"train.csv\")\n",
    "df.SalePrice.plot.hist(bins=30)"
   ]
  },
  {
   "cell_type": "markdown",
   "metadata": {},
   "source": [
    "### Dealing with outliers\n",
    "\n",
    "We notice that there are some outliers in our dataset with very high prices and very low prices. \n",
    "We also notice that our data is skewed to the right.\n",
    "\n",
    "This may affect our model if we leave the outliers in out dataset."
   ]
  },
  {
   "cell_type": "code",
   "execution_count": 3,
   "metadata": {
    "collapsed": false
   },
   "outputs": [
    {
     "name": "stdout",
     "output_type": "stream",
     "text": [
      "28 5 (1460, 81)\n"
     ]
    }
   ],
   "source": [
    "#Counting outliers\n",
    "lower_bound = 50000\n",
    "upper_bound = 400000\n",
    "upper_out = df.loc[df.SalePrice > upper_bound].Id.count()\n",
    "lower_out = df.loc[df.SalePrice < lower_bound].Id.count()\n",
    "\n",
    "print(upper_out,lower_out,df.shape)"
   ]
  },
  {
   "cell_type": "markdown",
   "metadata": {},
   "source": [
    "The identified outliers which we have roughly choosen makes up 2% of our training data, so removing it would not affect our model significantly in terms of the number of examples to train on.\n",
    "\n",
    "Lets remove the outliers and plot the target variable."
   ]
  },
  {
   "cell_type": "code",
   "execution_count": 4,
   "metadata": {
    "collapsed": false
   },
   "outputs": [
    {
     "data": {
      "text/plain": [
       "<matplotlib.axes._subplots.AxesSubplot at 0x24bb20580f0>"
      ]
     },
     "execution_count": 4,
     "metadata": {},
     "output_type": "execute_result"
    },
    {
     "data": {
      "image/png": "[encoded data removed]",
      "text/plain": [
       "<Figure size 432x288 with 1 Axes>"
      ]
     },
     "metadata": {},
     "output_type": "display_data"
    }
   ],
   "source": [
    "#Create a new dataframe with outliers removed\n",
    "df1 = df.loc[(df.SalePrice > lower_bound) & (df.SalePrice < upper_bound) ]\n",
    "df1.shape\n",
    "\n",
    "df1.SalePrice.plot.hist(bins=30)"
   ]
  },
  {
   "cell_type": "markdown",
   "metadata": {},
   "source": [
    "Now the target variable does look more normally distributed, but is still skewed to the right.\n",
    "At this point, we could do a transformation to ensure that the target variable is more close to being normally distributed, but we will leave this out for now."
   ]
  },
  {
   "cell_type": "markdown",
   "metadata": {},
   "source": [
    "### Sparse Variables\n",
    "\n",
    "Now let's look for variables that have many missing values. These variables will probably not be very useful when we use our learning algorithms to build the Model.\n",
    "\n",
    "Note that now we would need to combine our training and test datasets, as we cannot have different variables in these datasets."
   ]
  },
  {
   "cell_type": "code",
   "execution_count": 5,
   "metadata": {
    "collapsed": false
   },
   "outputs": [
    {
     "data": {
      "text/html": [
       "<div>\n",
       "<table border=\"1\" class=\"dataframe\">\n",
       "  <thead>\n",
       "    <tr style=\"text-align: right;\">\n",
       "      <th></th>\n",
       "      <th>1stFlrSF</th>\n",
       "      <th>2ndFlrSF</th>\n",
       "      <th>3SsnPorch</th>\n",
       "      <th>Alley</th>\n",
       "      <th>BedroomAbvGr</th>\n",
       "      <th>BldgType</th>\n",
       "      <th>BsmtCond</th>\n",
       "      <th>BsmtExposure</th>\n",
       "      <th>BsmtFinSF1</th>\n",
       "      <th>BsmtFinSF2</th>\n",
       "      <th>...</th>\n",
       "      <th>SaleType</th>\n",
       "      <th>ScreenPorch</th>\n",
       "      <th>Street</th>\n",
       "      <th>TotRmsAbvGrd</th>\n",
       "      <th>TotalBsmtSF</th>\n",
       "      <th>Utilities</th>\n",
       "      <th>WoodDeckSF</th>\n",
       "      <th>YearBuilt</th>\n",
       "      <th>YearRemodAdd</th>\n",
       "      <th>YrSold</th>\n",
       "    </tr>\n",
       "    <tr>\n",
       "      <th>Id</th>\n",
       "      <th></th>\n",
       "      <th></th>\n",
       "      <th></th>\n",
       "      <th></th>\n",
       "      <th></th>\n",
       "      <th></th>\n",
       "      <th></th>\n",
       "      <th></th>\n",
       "      <th></th>\n",
       "      <th></th>\n",
       "      <th></th>\n",
       "      <th></th>\n",
       "      <th></th>\n",
       "      <th></th>\n",
       "      <th></th>\n",
       "      <th></th>\n",
       "      <th></th>\n",
       "      <th></th>\n",
       "      <th></th>\n",
       "      <th></th>\n",
       "      <th></th>\n",
       "    </tr>\n",
       "  </thead>\n",
       "  <tbody>\n",
       "    <tr>\n",
       "      <th>1</th>\n",
       "      <td>856</td>\n",
       "      <td>854</td>\n",
       "      <td>0</td>\n",
       "      <td>NaN</td>\n",
       "      <td>3</td>\n",
       "      <td>1Fam</td>\n",
       "      <td>TA</td>\n",
       "      <td>No</td>\n",
       "      <td>706.0</td>\n",
       "      <td>0.0</td>\n",
       "      <td>...</td>\n",
       "      <td>WD</td>\n",
       "      <td>0</td>\n",
       "      <td>Pave</td>\n",
       "      <td>8</td>\n",
       "      <td>856.0</td>\n",
       "      <td>AllPub</td>\n",
       "      <td>0</td>\n",
       "      <td>2003</td>\n",
       "      <td>2003</td>\n",
       "      <td>2008</td>\n",
       "    </tr>\n",
       "    <tr>\n",
       "      <th>2</th>\n",
       "      <td>1262</td>\n",
       "      <td>0</td>\n",
       "      <td>0</td>\n",
       "      <td>NaN</td>\n",
       "      <td>3</td>\n",
       "      <td>1Fam</td>\n",
       "      <td>TA</td>\n",
       "      <td>Gd</td>\n",
       "      <td>978.0</td>\n",
       "      <td>0.0</td>\n",
       "      <td>...</td>\n",
       "      <td>WD</td>\n",
       "      <td>0</td>\n",
       "      <td>Pave</td>\n",
       "      <td>6</td>\n",
       "      <td>1262.0</td>\n",
       "      <td>AllPub</td>\n",
       "      <td>298</td>\n",
       "      <td>1976</td>\n",
       "      <td>1976</td>\n",
       "      <td>2007</td>\n",
       "    </tr>\n",
       "    <tr>\n",
       "      <th>3</th>\n",
       "      <td>920</td>\n",
       "      <td>866</td>\n",
       "      <td>0</td>\n",
       "      <td>NaN</td>\n",
       "      <td>3</td>\n",
       "      <td>1Fam</td>\n",
       "      <td>TA</td>\n",
       "      <td>Mn</td>\n",
       "      <td>486.0</td>\n",
       "      <td>0.0</td>\n",
       "      <td>...</td>\n",
       "      <td>WD</td>\n",
       "      <td>0</td>\n",
       "      <td>Pave</td>\n",
       "      <td>6</td>\n",
       "      <td>920.0</td>\n",
       "      <td>AllPub</td>\n",
       "      <td>0</td>\n",
       "      <td>2001</td>\n",
       "      <td>2002</td>\n",
       "      <td>2008</td>\n",
       "    </tr>\n",
       "    <tr>\n",
       "      <th>4</th>\n",
       "      <td>961</td>\n",
       "      <td>756</td>\n",
       "      <td>0</td>\n",
       "      <td>NaN</td>\n",
       "      <td>3</td>\n",
       "      <td>1Fam</td>\n",
       "      <td>Gd</td>\n",
       "      <td>No</td>\n",
       "      <td>216.0</td>\n",
       "      <td>0.0</td>\n",
       "      <td>...</td>\n",
       "      <td>WD</td>\n",
       "      <td>0</td>\n",
       "      <td>Pave</td>\n",
       "      <td>7</td>\n",
       "      <td>756.0</td>\n",
       "      <td>AllPub</td>\n",
       "      <td>0</td>\n",
       "      <td>1915</td>\n",
       "      <td>1970</td>\n",
       "      <td>2006</td>\n",
       "    </tr>\n",
       "    <tr>\n",
       "      <th>5</th>\n",
       "      <td>1145</td>\n",
       "      <td>1053</td>\n",
       "      <td>0</td>\n",
       "      <td>NaN</td>\n",
       "      <td>4</td>\n",
       "      <td>1Fam</td>\n",
       "      <td>TA</td>\n",
       "      <td>Av</td>\n",
       "      <td>655.0</td>\n",
       "      <td>0.0</td>\n",
       "      <td>...</td>\n",
       "      <td>WD</td>\n",
       "      <td>0</td>\n",
       "      <td>Pave</td>\n",
       "      <td>9</td>\n",
       "      <td>1145.0</td>\n",
       "      <td>AllPub</td>\n",
       "      <td>192</td>\n",
       "      <td>2000</td>\n",
       "      <td>2000</td>\n",
       "      <td>2008</td>\n",
       "    </tr>\n",
       "  </tbody>\n",
       "</table>\n",
       "<p>5 rows × 80 columns</p>\n",
       "</div>"
      ],
      "text/plain": [
       "    1stFlrSF  2ndFlrSF  3SsnPorch Alley  BedroomAbvGr BldgType BsmtCond  \\\n",
       "Id                                                                        \n",
       "1        856       854          0   NaN             3     1Fam       TA   \n",
       "2       1262         0          0   NaN             3     1Fam       TA   \n",
       "3        920       866          0   NaN             3     1Fam       TA   \n",
       "4        961       756          0   NaN             3     1Fam       Gd   \n",
       "5       1145      1053          0   NaN             4     1Fam       TA   \n",
       "\n",
       "   BsmtExposure  BsmtFinSF1  BsmtFinSF2  ...   SaleType ScreenPorch  Street  \\\n",
       "Id                                       ...                                  \n",
       "1            No       706.0         0.0  ...         WD           0    Pave   \n",
       "2            Gd       978.0         0.0  ...         WD           0    Pave   \n",
       "3            Mn       486.0         0.0  ...         WD           0    Pave   \n",
       "4            No       216.0         0.0  ...         WD           0    Pave   \n",
       "5            Av       655.0         0.0  ...         WD           0    Pave   \n",
       "\n",
       "    TotRmsAbvGrd TotalBsmtSF  Utilities WoodDeckSF YearBuilt YearRemodAdd  \\\n",
       "Id                                                                          \n",
       "1              8       856.0     AllPub          0      2003         2003   \n",
       "2              6      1262.0     AllPub        298      1976         1976   \n",
       "3              6       920.0     AllPub          0      2001         2002   \n",
       "4              7       756.0     AllPub          0      1915         1970   \n",
       "5              9      1145.0     AllPub        192      2000         2000   \n",
       "\n",
       "   YrSold  \n",
       "Id         \n",
       "1    2008  \n",
       "2    2007  \n",
       "3    2008  \n",
       "4    2006  \n",
       "5    2008  \n",
       "\n",
       "[5 rows x 80 columns]"
      ]
     },
     "execution_count": 5,
     "metadata": {},
     "output_type": "execute_result"
    }
   ],
   "source": [
    "#Merging the train and test datasets - Note that price variable will be missing on the test dataset\n",
    "_df = pd.read_csv('test.csv')\n",
    "dfmerged = pd.concat([df1,_df]).set_index('Id')\n",
    "dfmerged.head()"
   ]
  },
  {
   "cell_type": "code",
   "execution_count": 6,
   "metadata": {
    "collapsed": false
   },
   "outputs": [
    {
     "data": {
      "text/plain": [
       "<matplotlib.axes._subplots.AxesSubplot at 0x24bb3180320>"
      ]
     },
     "execution_count": 6,
     "metadata": {},
     "output_type": "execute_result"
    },
    {
     "data": {
      "image/png": "[encoded data removed]",
      "text/plain": [
       "<Figure size 432x288 with 1 Axes>"
      ]
     },
     "metadata": {},
     "output_type": "display_data"
    }
   ],
   "source": [
    "#Number of observations\n",
    "n = dfmerged.shape[0]\n",
    "\n",
    "#% of Missing Values\n",
    "_missing = pd.DataFrame(dfmerged.isnull().sum())\n",
    "_missing['Count'] = n\n",
    "_missing['%Miss'] = _missing[0] / _missing.Count\n",
    "_missing.loc[_missing['%Miss'] > 0.5]['%Miss'].plot.bar()"
   ]
  },
  {
   "cell_type": "markdown",
   "metadata": {},
   "source": [
    "As from the above we can see that there are a number of columns that have large number of missing values. We can remove them."
   ]
  },
  {
   "cell_type": "code",
   "execution_count": 7,
   "metadata": {
    "collapsed": false
   },
   "outputs": [
    {
     "data": {
      "text/plain": [
       "(2886, 76)"
      ]
     },
     "execution_count": 7,
     "metadata": {},
     "output_type": "execute_result"
    }
   ],
   "source": [
    "col_rem = _missing.loc[_missing['%Miss'] > 0.5]['%Miss'].index[0:-1]\n",
    "df\n",
    "\n",
    "#removing variables exlcuding sale price\n",
    "dfmerged.drop(col_rem, axis = 1, inplace = True)\n",
    "dfmerged.shape"
   ]
  },
  {
   "cell_type": "markdown",
   "metadata": {},
   "source": [
    "### Missing Values\n",
    "\n",
    "Lets now investigate missing values. We have a few ways that we can address missing values. \n",
    "It is important to understand if the missing values has meaning - that is if there are reasons why they are missing that might help the model learn better."
   ]
  },
  {
   "cell_type": "code",
   "execution_count": 8,
   "metadata": {
    "collapsed": false,
    "scrolled": true
   },
   "outputs": [
    {
     "data": {
      "text/plain": [
       "BsmtCond          81\n",
       "BsmtExposure      81\n",
       "BsmtFinSF1         1\n",
       "BsmtFinSF2         1\n",
       "BsmtFinType1      78\n",
       "BsmtFinType2      79\n",
       "BsmtFullBath       2\n",
       "BsmtHalfBath       2\n",
       "BsmtQual          80\n",
       "BsmtUnfSF          1\n",
       "Electrical         1\n",
       "Exterior1st        1\n",
       "Exterior2nd        1\n",
       "FireplaceQu     1415\n",
       "Functional         2\n",
       "GarageArea         1\n",
       "GarageCars         1\n",
       "GarageCond       156\n",
       "GarageFinish     156\n",
       "GarageQual       156\n",
       "GarageType       154\n",
       "GarageYrBlt      156\n",
       "KitchenQual        1\n",
       "LotFrontage      484\n",
       "MSZoning           4\n",
       "MasVnrArea        22\n",
       "MasVnrType        23\n",
       "SalePrice       1459\n",
       "SaleType           1\n",
       "TotalBsmtSF        1\n",
       "Utilities          2\n",
       "dtype: int64"
      ]
     },
     "execution_count": 8,
     "metadata": {},
     "output_type": "execute_result"
    }
   ],
   "source": [
    "missing_val = dfmerged.isnull().sum()\n",
    "missing_val = missing_val[missing_val > 0]\n",
    "missing_val"
   ]
  },
  {
   "cell_type": "code",
   "execution_count": null,
   "metadata": {
    "collapsed": false
   },
   "outputs": [],
   "source": []
  },
  {
   "cell_type": "markdown",
   "metadata": {},
   "source": [
    "Let's look into detail at missing values starting at Lot Area"
   ]
  },
  {
   "cell_type": "code",
   "execution_count": 9,
   "metadata": {
    "collapsed": false
   },
   "outputs": [
    {
     "data": {
      "text/plain": [
       "Inside     269\n",
       "Corner     104\n",
       "CulDSac     87\n",
       "FR2         20\n",
       "FR3          4\n",
       "Name: LotConfig, dtype: int64"
      ]
     },
     "execution_count": 9,
     "metadata": {},
     "output_type": "execute_result"
    }
   ],
   "source": [
    "#Type of Lots where LotFrontage is missing\n",
    "dfmerged.loc[dfmerged.LotFrontage.isnull()].LotConfig.value_counts()"
   ]
  },
  {
   "cell_type": "code",
   "execution_count": 10,
   "metadata": {
    "collapsed": false
   },
   "outputs": [
    {
     "data": {
      "text/plain": [
       "1stFlrSF        0.452124\n",
       "GarageArea      0.352974\n",
       "GarageCars      0.300778\n",
       "GrLivArea       0.371851\n",
       "LotArea         0.502170\n",
       "LotFrontage     1.000000\n",
       "SalePrice       0.331818\n",
       "TotRmsAbvGrd    0.341704\n",
       "TotalBsmtSF     0.344550\n",
       "Name: LotFrontage, dtype: float64"
      ]
     },
     "execution_count": 10,
     "metadata": {},
     "output_type": "execute_result"
    }
   ],
   "source": [
    "dfmerged.corr().LotFrontage[dfmerged.corr().LotFrontage>0.3]"
   ]
  },
  {
   "cell_type": "markdown",
   "metadata": {},
   "source": [
    "We can see in the above that LotFrontage is highly correlated to LotArea, which is reasonable to expect.\n",
    "\n",
    "Therefore one reasonable treatment we can apply to the missing values is to use use the ratio of LotFrontage to LotArea to infer a value"
   ]
  },
  {
   "cell_type": "code",
   "execution_count": 11,
   "metadata": {
    "collapsed": false
   },
   "outputs": [
    {
     "data": {
      "text/plain": [
       "(2886, 76)"
      ]
     },
     "execution_count": 11,
     "metadata": {},
     "output_type": "execute_result"
    }
   ],
   "source": [
    "def LotRatio(df):\n",
    "    df['LotRatio'] = df.LotFrontage / df.LotArea\n",
    "    return df\n",
    "\n",
    "\n",
    "_lotfrontage = dfmerged.apply(LotRatio,axis='columns').groupby('LotConfig').LotRatio.mean()\n",
    "_lotfrontage\n",
    "\n",
    "#Now we can use this ratio to calculate LotFrontage from LotArea\n",
    "LotFrontReplace = [(_lotfrontage.index[i],_lotfrontage[i]) for i in range(len(_lotfrontage))]\n",
    "LotFrontReplace\n",
    "\n",
    "def LotReplace(df):\n",
    "    for i in range(len(LotFrontReplace)):\n",
    "        if np.isnan(df.LotFrontage) and df.LotConfig == LotFrontReplace[i][0]:\n",
    "            df['LotFrontage'] = LotFrontReplace[i][1] * df.LotArea\n",
    "    return df\n",
    "\n",
    "df2 = dfmerged.apply(LotReplace, axis='columns')\n",
    "df2.shape\n"
   ]
  },
  {
   "cell_type": "markdown",
   "metadata": {},
   "source": [
    "Now lets take garages - There is a null value if there is no garage, and we can replace this category.\n",
    "\n",
    "However, garage area and garage cars does not have the same number of null values..."
   ]
  },
  {
   "cell_type": "code",
   "execution_count": 12,
   "metadata": {
    "collapsed": false
   },
   "outputs": [
    {
     "data": {
      "text/plain": [
       "<matplotlib.axes._subplots.AxesSubplot at 0x24bb31f4a90>"
      ]
     },
     "execution_count": 12,
     "metadata": {},
     "output_type": "execute_result"
    },
    {
     "data": {
      "image/png": "[encoded data removed]",
      "text/plain": [
       "<Figure size 432x288 with 2 Axes>"
      ]
     },
     "metadata": {},
     "output_type": "display_data"
    }
   ],
   "source": [
    "fig, axs = plt.subplots(1,2)\n",
    "df2[(df2.GarageCond.isnull() == True)].GarageCars.plot(ax=axs[0])\n",
    "df2[(df2.GarageCond.isnull() == True)].GarageArea.plot(ax=axs[1])"
   ]
  },
  {
   "cell_type": "markdown",
   "metadata": {},
   "source": [
    "Garage Area and Care variable set to 0 value if no garage. However, we have house with No GarageCondition, but does appear to have a garage"
   ]
  },
  {
   "cell_type": "code",
   "execution_count": 13,
   "metadata": {
    "collapsed": false
   },
   "outputs": [
    {
     "data": {
      "text/html": [
       "<div>\n",
       "<table border=\"1\" class=\"dataframe\">\n",
       "  <thead>\n",
       "    <tr style=\"text-align: right;\">\n",
       "      <th></th>\n",
       "      <th>GarageArea</th>\n",
       "      <th>GarageType</th>\n",
       "      <th>GarageCond</th>\n",
       "      <th>GarageFinish</th>\n",
       "      <th>GarageQual</th>\n",
       "      <th>GarageYrBlt</th>\n",
       "    </tr>\n",
       "    <tr>\n",
       "      <th>Id</th>\n",
       "      <th></th>\n",
       "      <th></th>\n",
       "      <th></th>\n",
       "      <th></th>\n",
       "      <th></th>\n",
       "      <th></th>\n",
       "    </tr>\n",
       "  </thead>\n",
       "  <tbody>\n",
       "    <tr>\n",
       "      <th>2127</th>\n",
       "      <td>360.0</td>\n",
       "      <td>Detchd</td>\n",
       "      <td>NaN</td>\n",
       "      <td>NaN</td>\n",
       "      <td>NaN</td>\n",
       "      <td>NaN</td>\n",
       "    </tr>\n",
       "  </tbody>\n",
       "</table>\n",
       "</div>"
      ],
      "text/plain": [
       "      GarageArea GarageType GarageCond GarageFinish GarageQual  GarageYrBlt\n",
       "Id                                                                         \n",
       "2127       360.0     Detchd        NaN          NaN        NaN          NaN"
      ]
     },
     "execution_count": 13,
     "metadata": {},
     "output_type": "execute_result"
    }
   ],
   "source": [
    "df2[(df2.GarageCond.isnull() == True) & (df2.GarageArea > 1)][['GarageArea','GarageType','GarageCond','GarageFinish','GarageQual','GarageYrBlt']]"
   ]
  },
  {
   "cell_type": "markdown",
   "metadata": {},
   "source": [
    "Where GarageArea and GarageCars = 0, we can set the Garage Categorical Variables to \"No Garage\""
   ]
  },
  {
   "cell_type": "code",
   "execution_count": 14,
   "metadata": {
    "collapsed": false
   },
   "outputs": [],
   "source": [
    "def GarageReplace(df):\n",
    "    if df.GarageArea == 0 and df.GarageCars == 0:\n",
    "        df[\"GarageType\"] = \"No Garage\"\n",
    "        df[\"GarageCond\"] = \"No Garage\"\n",
    "        df[\"GarageFinish\"] = \"No Garage\"\n",
    "        df[\"GarageQual\"] = \"No Garage\"\n",
    "        df[\"GarageYrBlt\"] = -1\n",
    "\n",
    "    return df\n",
    "\n",
    "df3 = df2.apply(GarageReplace,axis='columns')\n",
    "    "
   ]
  },
  {
   "cell_type": "code",
   "execution_count": 15,
   "metadata": {
    "collapsed": false
   },
   "outputs": [
    {
     "data": {
      "text/plain": [
       "BsmtCond          81\n",
       "BsmtExposure      81\n",
       "BsmtFinSF1         1\n",
       "BsmtFinSF2         1\n",
       "BsmtFinType1      78\n",
       "BsmtFinType2      79\n",
       "BsmtFullBath       2\n",
       "BsmtHalfBath       2\n",
       "BsmtQual          80\n",
       "BsmtUnfSF          1\n",
       "Electrical         1\n",
       "Exterior1st        1\n",
       "Exterior2nd        1\n",
       "FireplaceQu     1415\n",
       "Functional         2\n",
       "GarageArea         1\n",
       "GarageCars         1\n",
       "GarageCond         2\n",
       "GarageFinish       2\n",
       "GarageQual         2\n",
       "GarageYrBlt        2\n",
       "KitchenQual        1\n",
       "MSZoning           4\n",
       "MasVnrArea        22\n",
       "MasVnrType        23\n",
       "SalePrice       1459\n",
       "SaleType           1\n",
       "TotalBsmtSF        1\n",
       "Utilities          2\n",
       "dtype: int64"
      ]
     },
     "execution_count": 15,
     "metadata": {},
     "output_type": "execute_result"
    }
   ],
   "source": [
    "df3.isnull().sum()[df3.isnull().sum() > 0]"
   ]
  },
  {
   "cell_type": "code",
   "execution_count": 16,
   "metadata": {
    "collapsed": false
   },
   "outputs": [
    {
     "data": {
      "text/html": [
       "<div>\n",
       "<table border=\"1\" class=\"dataframe\">\n",
       "  <thead>\n",
       "    <tr style=\"text-align: right;\">\n",
       "      <th></th>\n",
       "      <th>GarageCars</th>\n",
       "      <th>GarageCond</th>\n",
       "      <th>GarageFinish</th>\n",
       "      <th>GarageQual</th>\n",
       "      <th>GarageType</th>\n",
       "      <th>GarageYrBlt</th>\n",
       "    </tr>\n",
       "    <tr>\n",
       "      <th>Id</th>\n",
       "      <th></th>\n",
       "      <th></th>\n",
       "      <th></th>\n",
       "      <th></th>\n",
       "      <th></th>\n",
       "      <th></th>\n",
       "    </tr>\n",
       "  </thead>\n",
       "  <tbody>\n",
       "    <tr>\n",
       "      <th>2577</th>\n",
       "      <td>NaN</td>\n",
       "      <td>NaN</td>\n",
       "      <td>NaN</td>\n",
       "      <td>NaN</td>\n",
       "      <td>Detchd</td>\n",
       "      <td>NaN</td>\n",
       "    </tr>\n",
       "  </tbody>\n",
       "</table>\n",
       "</div>"
      ],
      "text/plain": [
       "      GarageCars GarageCond GarageFinish GarageQual GarageType  GarageYrBlt\n",
       "Id                                                                         \n",
       "2577         NaN        NaN          NaN        NaN     Detchd          NaN"
      ]
     },
     "execution_count": 16,
     "metadata": {},
     "output_type": "execute_result"
    }
   ],
   "source": [
    "df3[df3.GarageArea.isnull()][['GarageCars','GarageCond','GarageFinish','GarageQual','GarageType','GarageYrBlt']]"
   ]
  },
  {
   "cell_type": "markdown",
   "metadata": {},
   "source": [
    "In the data description, the value of NA with respects to a Garage means that there is no garage.\n",
    "\n",
    "Using this logic, it is possible that this was a mistake and the house does not have a garage"
   ]
  },
  {
   "cell_type": "code",
   "execution_count": 17,
   "metadata": {
    "collapsed": false
   },
   "outputs": [],
   "source": [
    "def GarageError(df):\n",
    "    if np.isnan(df.GarageCars) == True:\n",
    "        df[\"GarageType\"] = \"No Garage\"\n",
    "        df[\"GarageCond\"] = \"No Garage\"\n",
    "        df[\"GarageFinish\"] = \"No Garage\"\n",
    "        df[\"GarageQual\"] = \"No Garage\"\n",
    "        df[\"GarageYrBlt\"] = -1\n",
    "        df[\"GarageCars\"] = 0\n",
    "        df[\"GarageArea\"] = 0\n",
    "    return df\n",
    "\n",
    "df3 = df3.apply(GarageError,axis='columns')\n",
    "        \n",
    "        "
   ]
  },
  {
   "cell_type": "code",
   "execution_count": 18,
   "metadata": {
    "collapsed": false
   },
   "outputs": [
    {
     "data": {
      "text/plain": [
       "BsmtCond          81\n",
       "BsmtExposure      81\n",
       "BsmtFinSF1         1\n",
       "BsmtFinSF2         1\n",
       "BsmtFinType1      78\n",
       "BsmtFinType2      79\n",
       "BsmtFullBath       2\n",
       "BsmtHalfBath       2\n",
       "BsmtQual          80\n",
       "BsmtUnfSF          1\n",
       "Electrical         1\n",
       "Exterior1st        1\n",
       "Exterior2nd        1\n",
       "FireplaceQu     1415\n",
       "Functional         2\n",
       "GarageCond         1\n",
       "GarageFinish       1\n",
       "GarageQual         1\n",
       "GarageYrBlt        1\n",
       "KitchenQual        1\n",
       "MSZoning           4\n",
       "MasVnrArea        22\n",
       "MasVnrType        23\n",
       "SalePrice       1459\n",
       "SaleType           1\n",
       "TotalBsmtSF        1\n",
       "Utilities          2\n",
       "dtype: int64"
      ]
     },
     "execution_count": 18,
     "metadata": {},
     "output_type": "execute_result"
    }
   ],
   "source": [
    "df3.isnull().sum()[df3.isnull().sum() > 0]"
   ]
  },
  {
   "cell_type": "code",
   "execution_count": 19,
   "metadata": {
    "collapsed": false
   },
   "outputs": [
    {
     "data": {
      "text/html": [
       "<div>\n",
       "<table border=\"1\" class=\"dataframe\">\n",
       "  <thead>\n",
       "    <tr style=\"text-align: right;\">\n",
       "      <th></th>\n",
       "      <th>GarageCars</th>\n",
       "      <th>GarageArea</th>\n",
       "      <th>GarageFinish</th>\n",
       "      <th>GarageQual</th>\n",
       "      <th>GarageType</th>\n",
       "      <th>GarageYrBlt</th>\n",
       "      <th>OverallCond</th>\n",
       "      <th>OverallQual</th>\n",
       "      <th>YearBuilt</th>\n",
       "      <th>YearRemodAdd</th>\n",
       "    </tr>\n",
       "    <tr>\n",
       "      <th>Id</th>\n",
       "      <th></th>\n",
       "      <th></th>\n",
       "      <th></th>\n",
       "      <th></th>\n",
       "      <th></th>\n",
       "      <th></th>\n",
       "      <th></th>\n",
       "      <th></th>\n",
       "      <th></th>\n",
       "      <th></th>\n",
       "    </tr>\n",
       "  </thead>\n",
       "  <tbody>\n",
       "    <tr>\n",
       "      <th>2127</th>\n",
       "      <td>1.0</td>\n",
       "      <td>360.0</td>\n",
       "      <td>NaN</td>\n",
       "      <td>NaN</td>\n",
       "      <td>Detchd</td>\n",
       "      <td>NaN</td>\n",
       "      <td>8</td>\n",
       "      <td>6</td>\n",
       "      <td>1910</td>\n",
       "      <td>1983</td>\n",
       "    </tr>\n",
       "  </tbody>\n",
       "</table>\n",
       "</div>"
      ],
      "text/plain": [
       "      GarageCars  GarageArea GarageFinish GarageQual GarageType  GarageYrBlt  \\\n",
       "Id                                                                             \n",
       "2127         1.0       360.0          NaN        NaN     Detchd          NaN   \n",
       "\n",
       "      OverallCond  OverallQual  YearBuilt  YearRemodAdd  \n",
       "Id                                                       \n",
       "2127            8            6       1910          1983  "
      ]
     },
     "execution_count": 19,
     "metadata": {},
     "output_type": "execute_result"
    }
   ],
   "source": [
    "df3[df3.GarageCond.isnull()][['GarageCars','GarageArea','GarageFinish','GarageQual','GarageType','GarageYrBlt','OverallCond','OverallQual','YearBuilt','YearRemodAdd']]"
   ]
  },
  {
   "cell_type": "markdown",
   "metadata": {},
   "source": [
    "In the above case, the other attributes of the garage is missing, and we can see that overall the house is in good condition.\n",
    "\n",
    "We therefore replace the Garage Quality attributes to 'Good' and set the Year Built to the remoddled date"
   ]
  },
  {
   "cell_type": "code",
   "execution_count": 20,
   "metadata": {
    "collapsed": false
   },
   "outputs": [],
   "source": [
    "def GarageError1(df):\n",
    "    if pd.isnull(df.GarageCond) == True:\n",
    "        df[\"GarageCond\"] = \"Gd\"\n",
    "        df[\"GarageFinish\"] = \"Fin\"\n",
    "        df[\"GarageQual\"] = \"Gd\"\n",
    "        df[\"GarageYrBlt\"] = df.YearRemodAdd\n",
    "    return df\n",
    "df3 = df3.apply(GarageError1,axis='columns')"
   ]
  },
  {
   "cell_type": "code",
   "execution_count": 21,
   "metadata": {
    "collapsed": false
   },
   "outputs": [
    {
     "data": {
      "text/plain": [
       "BsmtCond          81\n",
       "BsmtExposure      81\n",
       "BsmtFinSF1         1\n",
       "BsmtFinSF2         1\n",
       "BsmtFinType1      78\n",
       "BsmtFinType2      79\n",
       "BsmtFullBath       2\n",
       "BsmtHalfBath       2\n",
       "BsmtQual          80\n",
       "BsmtUnfSF          1\n",
       "Electrical         1\n",
       "Exterior1st        1\n",
       "Exterior2nd        1\n",
       "FireplaceQu     1415\n",
       "Functional         2\n",
       "KitchenQual        1\n",
       "MSZoning           4\n",
       "MasVnrArea        22\n",
       "MasVnrType        23\n",
       "SalePrice       1459\n",
       "SaleType           1\n",
       "TotalBsmtSF        1\n",
       "Utilities          2\n",
       "dtype: int64"
      ]
     },
     "execution_count": 21,
     "metadata": {},
     "output_type": "execute_result"
    }
   ],
   "source": [
    "df3.isnull().sum()[df3.isnull().sum() > 0]"
   ]
  },
  {
   "cell_type": "markdown",
   "metadata": {},
   "source": [
    "Thats Great! - Now we have solved missing values related to the Garage.\n",
    "\n",
    "Another area that we can work on is Basment variables and Fireplace quality. In the data description, we see that these values are set to NA if the house does not have a fireplace or basement"
   ]
  },
  {
   "cell_type": "code",
   "execution_count": 22,
   "metadata": {
    "collapsed": false
   },
   "outputs": [],
   "source": [
    "def BsmtFire(df):\n",
    "    if pd.isnull(df.BsmtCond) == True and pd.isnull(df.BsmtQual) == True:\n",
    "        df['BsmtCond'] = 'No Basement'\n",
    "        df['BsmtQual'] = 'No Basement'\n",
    "        df['BsmtExposure'] = 'No Basement'\n",
    "        df['BsmtFinType1'] = 'No Basement'\n",
    "        df['BsmtFinType2'] = 'No Basement'\n",
    "        \n",
    "    if pd.isnull(df.FireplaceQu ) == True:\n",
    "        df['FireplaceQu'] = 'No Fireplace'\n",
    "        \n",
    "        \n",
    "    return df\n",
    "\n",
    "df3 = df3.apply(BsmtFire,axis='columns')"
   ]
  },
  {
   "cell_type": "code",
   "execution_count": 23,
   "metadata": {
    "collapsed": false
   },
   "outputs": [
    {
     "data": {
      "text/plain": [
       "BsmtCond           3\n",
       "BsmtExposure       3\n",
       "BsmtFinSF1         1\n",
       "BsmtFinSF2         1\n",
       "BsmtFinType2       1\n",
       "BsmtFullBath       2\n",
       "BsmtHalfBath       2\n",
       "BsmtQual           2\n",
       "BsmtUnfSF          1\n",
       "Electrical         1\n",
       "Exterior1st        1\n",
       "Exterior2nd        1\n",
       "Functional         2\n",
       "KitchenQual        1\n",
       "MSZoning           4\n",
       "MasVnrArea        22\n",
       "MasVnrType        23\n",
       "SalePrice       1459\n",
       "SaleType           1\n",
       "TotalBsmtSF        1\n",
       "Utilities          2\n",
       "dtype: int64"
      ]
     },
     "execution_count": 23,
     "metadata": {},
     "output_type": "execute_result"
    }
   ],
   "source": [
    "df3.isnull().sum()[df3.isnull().sum() > 0]"
   ]
  },
  {
   "cell_type": "code",
   "execution_count": 24,
   "metadata": {
    "collapsed": false
   },
   "outputs": [
    {
     "data": {
      "text/html": [
       "<div>\n",
       "<table border=\"1\" class=\"dataframe\">\n",
       "  <thead>\n",
       "    <tr style=\"text-align: right;\">\n",
       "      <th></th>\n",
       "      <th>BsmtQual</th>\n",
       "      <th>BsmtFinType1</th>\n",
       "      <th>BsmtFinType2</th>\n",
       "      <th>OverallCond</th>\n",
       "    </tr>\n",
       "    <tr>\n",
       "      <th>Id</th>\n",
       "      <th></th>\n",
       "      <th></th>\n",
       "      <th></th>\n",
       "      <th></th>\n",
       "    </tr>\n",
       "  </thead>\n",
       "  <tbody>\n",
       "    <tr>\n",
       "      <th>2041</th>\n",
       "      <td>Gd</td>\n",
       "      <td>GLQ</td>\n",
       "      <td>Rec</td>\n",
       "      <td>9</td>\n",
       "    </tr>\n",
       "    <tr>\n",
       "      <th>2186</th>\n",
       "      <td>TA</td>\n",
       "      <td>BLQ</td>\n",
       "      <td>Unf</td>\n",
       "      <td>6</td>\n",
       "    </tr>\n",
       "    <tr>\n",
       "      <th>2525</th>\n",
       "      <td>TA</td>\n",
       "      <td>ALQ</td>\n",
       "      <td>Unf</td>\n",
       "      <td>7</td>\n",
       "    </tr>\n",
       "  </tbody>\n",
       "</table>\n",
       "</div>"
      ],
      "text/plain": [
       "     BsmtQual BsmtFinType1 BsmtFinType2  OverallCond\n",
       "Id                                                  \n",
       "2041       Gd          GLQ          Rec            9\n",
       "2186       TA          BLQ          Unf            6\n",
       "2525       TA          ALQ          Unf            7"
      ]
     },
     "execution_count": 24,
     "metadata": {},
     "output_type": "execute_result"
    }
   ],
   "source": [
    "df3[df3.BsmtCond.isnull()][['BsmtQual','BsmtFinType1','BsmtFinType2',\"OverallCond\"]]"
   ]
  },
  {
   "cell_type": "markdown",
   "metadata": {},
   "source": [
    "Where basement condition is missing, we will assume that the condition is related to the overall condition of the house.\n",
    "\n",
    "Therefore 6/7 will be typical basement condition while a 9 will be excellent condition."
   ]
  },
  {
   "cell_type": "code",
   "execution_count": 25,
   "metadata": {
    "collapsed": false
   },
   "outputs": [],
   "source": [
    "def BmstCond(df):\n",
    "    if pd.isnull(df.BsmtCond) == True:\n",
    "        if df.OverallCond == 6 or df.OverallCond == 7:\n",
    "            df['BsmtCond'] = 'TA'\n",
    "        elif df.OverallCond == 9:\n",
    "            df['BsmtCond'] = 'Ex'\n",
    "    return df\n",
    "\n",
    "df3 = df3.apply(BmstCond, axis = \"columns\")\n",
    "            \n",
    "            \n",
    "            "
   ]
  },
  {
   "cell_type": "code",
   "execution_count": 26,
   "metadata": {
    "collapsed": false
   },
   "outputs": [
    {
     "data": {
      "text/html": [
       "<div>\n",
       "<table border=\"1\" class=\"dataframe\">\n",
       "  <thead>\n",
       "    <tr style=\"text-align: right;\">\n",
       "      <th></th>\n",
       "      <th>BsmtCond</th>\n",
       "      <th>BsmtFinSF1</th>\n",
       "      <th>HouseStyle</th>\n",
       "    </tr>\n",
       "    <tr>\n",
       "      <th>Id</th>\n",
       "      <th></th>\n",
       "      <th></th>\n",
       "      <th></th>\n",
       "    </tr>\n",
       "  </thead>\n",
       "  <tbody>\n",
       "    <tr>\n",
       "      <th>949</th>\n",
       "      <td>TA</td>\n",
       "      <td>0.0</td>\n",
       "      <td>2Story</td>\n",
       "    </tr>\n",
       "    <tr>\n",
       "      <th>1488</th>\n",
       "      <td>TA</td>\n",
       "      <td>0.0</td>\n",
       "      <td>1Story</td>\n",
       "    </tr>\n",
       "    <tr>\n",
       "      <th>2349</th>\n",
       "      <td>TA</td>\n",
       "      <td>0.0</td>\n",
       "      <td>2Story</td>\n",
       "    </tr>\n",
       "  </tbody>\n",
       "</table>\n",
       "</div>"
      ],
      "text/plain": [
       "     BsmtCond  BsmtFinSF1 HouseStyle\n",
       "Id                                  \n",
       "949        TA         0.0     2Story\n",
       "1488       TA         0.0     1Story\n",
       "2349       TA         0.0     2Story"
      ]
     },
     "execution_count": 26,
     "metadata": {},
     "output_type": "execute_result"
    }
   ],
   "source": [
    "df3[df3.BsmtExposure.isnull()][['BsmtCond','BsmtFinSF1','HouseStyle']]"
   ]
  },
  {
   "cell_type": "code",
   "execution_count": 27,
   "metadata": {
    "collapsed": false
   },
   "outputs": [
    {
     "data": {
      "text/plain": [
       "HouseStyle  BsmtExposure\n",
       "1.5Fin      No              265\n",
       "            Mn               28\n",
       "            No Basement       8\n",
       "            Av                7\n",
       "            Gd                4\n",
       "1.5Unf      No               18\n",
       "            Av                1\n",
       "1Story      No              915\n",
       "            Av              201\n",
       "            Gd              158\n",
       "            Mn              125\n",
       "            No Basement      58\n",
       "2.5Fin      No                7\n",
       "2.5Unf      No               20\n",
       "            Mn                4\n",
       "2Story      No              629\n",
       "            Av               91\n",
       "            Mn               76\n",
       "            Gd               47\n",
       "            No Basement      10\n",
       "SFoyer      Av               56\n",
       "            Gd               25\n",
       "            No                1\n",
       "            No Basement       1\n",
       "SLvl        Av               55\n",
       "            No               39\n",
       "            Gd               29\n",
       "            Mn                4\n",
       "            No Basement       1\n",
       "Name: BsmtExposure, dtype: int64"
      ]
     },
     "execution_count": 27,
     "metadata": {},
     "output_type": "execute_result"
    }
   ],
   "source": [
    "df3.groupby('HouseStyle').BsmtExposure.value_counts()"
   ]
  },
  {
   "cell_type": "markdown",
   "metadata": {},
   "source": [
    "Typically HouseStyle 1Story and 2 Story has basments with no exposure, therefore we shall replace the missing values for BsmtExposure variable to that."
   ]
  },
  {
   "cell_type": "code",
   "execution_count": 28,
   "metadata": {
    "collapsed": false
   },
   "outputs": [],
   "source": [
    "df3['BsmtExposure'] = df3['BsmtExposure'].apply(lambda df: 'No' if pd.isnull(df) == True else df)"
   ]
  },
  {
   "cell_type": "code",
   "execution_count": 29,
   "metadata": {
    "collapsed": false
   },
   "outputs": [
    {
     "data": {
      "text/plain": [
       "BsmtFinSF1         1\n",
       "BsmtFinSF2         1\n",
       "BsmtFinType2       1\n",
       "BsmtFullBath       2\n",
       "BsmtHalfBath       2\n",
       "BsmtQual           2\n",
       "BsmtUnfSF          1\n",
       "Electrical         1\n",
       "Exterior1st        1\n",
       "Exterior2nd        1\n",
       "Functional         2\n",
       "KitchenQual        1\n",
       "MSZoning           4\n",
       "MasVnrArea        22\n",
       "MasVnrType        23\n",
       "SalePrice       1459\n",
       "SaleType           1\n",
       "TotalBsmtSF        1\n",
       "Utilities          2\n",
       "dtype: int64"
      ]
     },
     "execution_count": 29,
     "metadata": {},
     "output_type": "execute_result"
    }
   ],
   "source": [
    "df3.isnull().sum()[df3.isnull().sum() > 0]"
   ]
  },
  {
   "cell_type": "code",
   "execution_count": null,
   "metadata": {
    "collapsed": false
   },
   "outputs": [],
   "source": [
    "\n"
   ]
  },
  {
   "cell_type": "markdown",
   "metadata": {},
   "source": [
    "MSZone missing values - we can look at the building type for these missing values and the neighborhood that they reside in the infer a value for the zoning.\n",
    "\n",
    "In the below we can see that they are all 1Fam homes and either will be RL or RM depending on the neighborhoold\n"
   ]
  },
  {
   "cell_type": "code",
   "execution_count": 30,
   "metadata": {
    "collapsed": false
   },
   "outputs": [
    {
     "data": {
      "text/plain": [
       "Id\n",
       "1916     IDOTRR\n",
       "2217     IDOTRR\n",
       "2251     IDOTRR\n",
       "2905    Mitchel\n",
       "Name: Neighborhood, dtype: object"
      ]
     },
     "execution_count": 30,
     "metadata": {},
     "output_type": "execute_result"
    }
   ],
   "source": [
    "df3[df3.MSZoning.isnull()].BldgType\n",
    "df3[df3.MSZoning.isnull()].Neighborhood"
   ]
  },
  {
   "cell_type": "code",
   "execution_count": 31,
   "metadata": {
    "collapsed": false
   },
   "outputs": [
    {
     "data": {
      "text/plain": [
       "Neighborhood  MSZoning\n",
       "Blmngtn       RL           25\n",
       "              RM            3\n",
       "Blueste       RM           10\n",
       "BrDale        RM           30\n",
       "BrkSide       RM           65\n",
       "              RL           42\n",
       "ClearCr       RL           44\n",
       "CollgCr       RL          252\n",
       "              RM           14\n",
       "Crawfor       RL           91\n",
       "              RM           10\n",
       "              RH            2\n",
       "Edwards       RL          180\n",
       "              RM           12\n",
       "              RH            2\n",
       "Gilbert       RL          165\n",
       "IDOTRR        RM           68\n",
       "              C (all)      19\n",
       "MeadowV       RM           37\n",
       "Mitchel       RL          104\n",
       "              RM            9\n",
       "NAmes         RL          436\n",
       "              RH            7\n",
       "NPkVill       RL           23\n",
       "NWAmes        RL          131\n",
       "NoRidge       RL           63\n",
       "NridgHt       RL          152\n",
       "              RM            1\n",
       "OldTown       RM          196\n",
       "              RL           39\n",
       "              C (all)       2\n",
       "SWISU         RL           38\n",
       "              RH            9\n",
       "              C (all)       1\n",
       "Sawyer        RL          148\n",
       "              RM            3\n",
       "SawyerW       RL          119\n",
       "              RH            6\n",
       "Somerst       FV          139\n",
       "              RL           42\n",
       "StoneBr       RL           47\n",
       "Timber        RL           72\n",
       "Veenker       RL           24\n",
       "Name: MSZoning, dtype: int64"
      ]
     },
     "execution_count": 31,
     "metadata": {},
     "output_type": "execute_result"
    }
   ],
   "source": [
    "df3.groupby('Neighborhood').MSZoning.value_counts()"
   ]
  },
  {
   "cell_type": "code",
   "execution_count": 32,
   "metadata": {
    "collapsed": false
   },
   "outputs": [],
   "source": [
    "def MissingZone(df):\n",
    "    if pd.isnull(df.MSZoning) == True:\n",
    "        if df.Neighborhood == 'IDOTRR':\n",
    "            df['MSZoning'] = 'RM'\n",
    "        elif df.Neighborhood == 'Mitchel':\n",
    "            df['MSZoning'] = 'RL'\n",
    "    return df\n",
    "\n",
    "df3 = df3.apply(MissingZone,axis='columns')\n",
    "            \n",
    "            \n",
    "    \n",
    "    "
   ]
  },
  {
   "cell_type": "code",
   "execution_count": 33,
   "metadata": {
    "collapsed": false
   },
   "outputs": [
    {
     "data": {
      "text/plain": [
       "BsmtFinSF1         1\n",
       "BsmtFinSF2         1\n",
       "BsmtFinType2       1\n",
       "BsmtFullBath       2\n",
       "BsmtHalfBath       2\n",
       "BsmtQual           2\n",
       "BsmtUnfSF          1\n",
       "Electrical         1\n",
       "Exterior1st        1\n",
       "Exterior2nd        1\n",
       "Functional         2\n",
       "KitchenQual        1\n",
       "MasVnrArea        22\n",
       "MasVnrType        23\n",
       "SalePrice       1459\n",
       "SaleType           1\n",
       "TotalBsmtSF        1\n",
       "Utilities          2\n",
       "dtype: int64"
      ]
     },
     "execution_count": 33,
     "metadata": {},
     "output_type": "execute_result"
    }
   ],
   "source": [
    "df3.isnull().sum()[df3.isnull().sum() > 0]"
   ]
  },
  {
   "cell_type": "code",
   "execution_count": 34,
   "metadata": {
    "collapsed": false
   },
   "outputs": [
    {
     "data": {
      "text/html": [
       "<div>\n",
       "<table border=\"1\" class=\"dataframe\">\n",
       "  <thead>\n",
       "    <tr style=\"text-align: right;\">\n",
       "      <th></th>\n",
       "      <th>BsmtFinSF1</th>\n",
       "      <th>BsmtFinSF2</th>\n",
       "      <th>BsmtFinType2</th>\n",
       "      <th>BsmtFullBath</th>\n",
       "      <th>BsmtHalfBath</th>\n",
       "      <th>BsmtQual</th>\n",
       "      <th>BsmtUnfSF</th>\n",
       "    </tr>\n",
       "    <tr>\n",
       "      <th>Id</th>\n",
       "      <th></th>\n",
       "      <th></th>\n",
       "      <th></th>\n",
       "      <th></th>\n",
       "      <th></th>\n",
       "      <th></th>\n",
       "      <th></th>\n",
       "    </tr>\n",
       "  </thead>\n",
       "  <tbody>\n",
       "    <tr>\n",
       "      <th>2121</th>\n",
       "      <td>NaN</td>\n",
       "      <td>NaN</td>\n",
       "      <td>No Basement</td>\n",
       "      <td>NaN</td>\n",
       "      <td>NaN</td>\n",
       "      <td>No Basement</td>\n",
       "      <td>NaN</td>\n",
       "    </tr>\n",
       "    <tr>\n",
       "      <th>2189</th>\n",
       "      <td>0.0</td>\n",
       "      <td>0.0</td>\n",
       "      <td>No Basement</td>\n",
       "      <td>NaN</td>\n",
       "      <td>NaN</td>\n",
       "      <td>No Basement</td>\n",
       "      <td>0.0</td>\n",
       "    </tr>\n",
       "  </tbody>\n",
       "</table>\n",
       "</div>"
      ],
      "text/plain": [
       "      BsmtFinSF1  BsmtFinSF2 BsmtFinType2  BsmtFullBath  BsmtHalfBath  \\\n",
       "Id                                                                      \n",
       "2121         NaN         NaN  No Basement           NaN           NaN   \n",
       "2189         0.0         0.0  No Basement           NaN           NaN   \n",
       "\n",
       "         BsmtQual  BsmtUnfSF  \n",
       "Id                            \n",
       "2121  No Basement        NaN  \n",
       "2189  No Basement        0.0  "
      ]
     },
     "execution_count": 34,
     "metadata": {},
     "output_type": "execute_result"
    }
   ],
   "source": [
    "df3[df3.BsmtFullBath.isnull()][['BsmtFinSF1','BsmtFinSF2','BsmtFinType2','BsmtFullBath','BsmtHalfBath','BsmtQual','BsmtUnfSF']]"
   ]
  },
  {
   "cell_type": "code",
   "execution_count": 35,
   "metadata": {
    "collapsed": false
   },
   "outputs": [
    {
     "data": {
      "text/html": [
       "<div>\n",
       "<table border=\"1\" class=\"dataframe\">\n",
       "  <thead>\n",
       "    <tr style=\"text-align: right;\">\n",
       "      <th></th>\n",
       "      <th>BsmtFinSF2</th>\n",
       "      <th>BsmtFinSF2</th>\n",
       "      <th>BsmtFinType2</th>\n",
       "      <th>BsmtFullBath</th>\n",
       "      <th>BsmtHalfBath</th>\n",
       "      <th>BsmtQual</th>\n",
       "      <th>BsmtUnfSF</th>\n",
       "    </tr>\n",
       "    <tr>\n",
       "      <th>Id</th>\n",
       "      <th></th>\n",
       "      <th></th>\n",
       "      <th></th>\n",
       "      <th></th>\n",
       "      <th></th>\n",
       "      <th></th>\n",
       "      <th></th>\n",
       "    </tr>\n",
       "  </thead>\n",
       "  <tbody>\n",
       "    <tr>\n",
       "      <th>2121</th>\n",
       "      <td>NaN</td>\n",
       "      <td>NaN</td>\n",
       "      <td>No Basement</td>\n",
       "      <td>NaN</td>\n",
       "      <td>NaN</td>\n",
       "      <td>No Basement</td>\n",
       "      <td>NaN</td>\n",
       "    </tr>\n",
       "  </tbody>\n",
       "</table>\n",
       "</div>"
      ],
      "text/plain": [
       "      BsmtFinSF2  BsmtFinSF2 BsmtFinType2  BsmtFullBath  BsmtHalfBath  \\\n",
       "Id                                                                      \n",
       "2121         NaN         NaN  No Basement           NaN           NaN   \n",
       "\n",
       "         BsmtQual  BsmtUnfSF  \n",
       "Id                            \n",
       "2121  No Basement        NaN  "
      ]
     },
     "execution_count": 35,
     "metadata": {},
     "output_type": "execute_result"
    }
   ],
   "source": [
    "df3[df3.BsmtFinSF1.isnull()][['BsmtFinSF2','BsmtFinSF2','BsmtFinType2','BsmtFullBath','BsmtHalfBath','BsmtQual','BsmtUnfSF']]"
   ]
  },
  {
   "cell_type": "code",
   "execution_count": 36,
   "metadata": {
    "collapsed": false
   },
   "outputs": [
    {
     "data": {
      "text/html": [
       "<div>\n",
       "<table border=\"1\" class=\"dataframe\">\n",
       "  <thead>\n",
       "    <tr style=\"text-align: right;\">\n",
       "      <th></th>\n",
       "      <th>BsmtFinSF2</th>\n",
       "      <th>BsmtFinSF2</th>\n",
       "      <th>BsmtFinType2</th>\n",
       "      <th>BsmtFullBath</th>\n",
       "      <th>BsmtHalfBath</th>\n",
       "      <th>BsmtQual</th>\n",
       "      <th>BsmtUnfSF</th>\n",
       "    </tr>\n",
       "    <tr>\n",
       "      <th>Id</th>\n",
       "      <th></th>\n",
       "      <th></th>\n",
       "      <th></th>\n",
       "      <th></th>\n",
       "      <th></th>\n",
       "      <th></th>\n",
       "      <th></th>\n",
       "    </tr>\n",
       "  </thead>\n",
       "  <tbody>\n",
       "    <tr>\n",
       "      <th>2218</th>\n",
       "      <td>0.0</td>\n",
       "      <td>0.0</td>\n",
       "      <td>Unf</td>\n",
       "      <td>0.0</td>\n",
       "      <td>0.0</td>\n",
       "      <td>NaN</td>\n",
       "      <td>173.0</td>\n",
       "    </tr>\n",
       "    <tr>\n",
       "      <th>2219</th>\n",
       "      <td>0.0</td>\n",
       "      <td>0.0</td>\n",
       "      <td>Unf</td>\n",
       "      <td>0.0</td>\n",
       "      <td>0.0</td>\n",
       "      <td>NaN</td>\n",
       "      <td>356.0</td>\n",
       "    </tr>\n",
       "  </tbody>\n",
       "</table>\n",
       "</div>"
      ],
      "text/plain": [
       "      BsmtFinSF2  BsmtFinSF2 BsmtFinType2  BsmtFullBath  BsmtHalfBath  \\\n",
       "Id                                                                      \n",
       "2218         0.0         0.0          Unf           0.0           0.0   \n",
       "2219         0.0         0.0          Unf           0.0           0.0   \n",
       "\n",
       "     BsmtQual  BsmtUnfSF  \n",
       "Id                        \n",
       "2218      NaN      173.0  \n",
       "2219      NaN      356.0  "
      ]
     },
     "execution_count": 36,
     "metadata": {},
     "output_type": "execute_result"
    }
   ],
   "source": [
    "df3[df3.BsmtQual.isnull()][['BsmtFinSF2','BsmtFinSF2','BsmtFinType2','BsmtFullBath','BsmtHalfBath','BsmtQual','BsmtUnfSF']]"
   ]
  },
  {
   "cell_type": "code",
   "execution_count": 37,
   "metadata": {
    "collapsed": false
   },
   "outputs": [
    {
     "data": {
      "text/html": [
       "<div>\n",
       "<table border=\"1\" class=\"dataframe\">\n",
       "  <thead>\n",
       "    <tr style=\"text-align: right;\">\n",
       "      <th></th>\n",
       "      <th>BsmtFinSF2</th>\n",
       "      <th>BsmtFinSF2</th>\n",
       "      <th>BsmtQual</th>\n",
       "      <th>BsmtFullBath</th>\n",
       "      <th>BsmtHalfBath</th>\n",
       "      <th>BsmtQual</th>\n",
       "      <th>BsmtUnfSF</th>\n",
       "      <th>BsmtFinType1</th>\n",
       "    </tr>\n",
       "    <tr>\n",
       "      <th>Id</th>\n",
       "      <th></th>\n",
       "      <th></th>\n",
       "      <th></th>\n",
       "      <th></th>\n",
       "      <th></th>\n",
       "      <th></th>\n",
       "      <th></th>\n",
       "      <th></th>\n",
       "    </tr>\n",
       "  </thead>\n",
       "  <tbody>\n",
       "    <tr>\n",
       "      <th>333</th>\n",
       "      <td>479.0</td>\n",
       "      <td>479.0</td>\n",
       "      <td>Gd</td>\n",
       "      <td>1.0</td>\n",
       "      <td>0.0</td>\n",
       "      <td>Gd</td>\n",
       "      <td>1603.0</td>\n",
       "      <td>GLQ</td>\n",
       "    </tr>\n",
       "  </tbody>\n",
       "</table>\n",
       "</div>"
      ],
      "text/plain": [
       "     BsmtFinSF2  BsmtFinSF2 BsmtQual  BsmtFullBath  BsmtHalfBath BsmtQual  \\\n",
       "Id                                                                          \n",
       "333       479.0       479.0       Gd           1.0           0.0       Gd   \n",
       "\n",
       "     BsmtUnfSF BsmtFinType1  \n",
       "Id                           \n",
       "333     1603.0          GLQ  "
      ]
     },
     "execution_count": 37,
     "metadata": {},
     "output_type": "execute_result"
    }
   ],
   "source": [
    "df3[df3.BsmtFinType2.isnull()][['BsmtFinSF2','BsmtFinSF2','BsmtQual','BsmtFullBath','BsmtHalfBath','BsmtQual','BsmtUnfSF','BsmtFinType1']]"
   ]
  },
  {
   "cell_type": "markdown",
   "metadata": {},
   "source": [
    "It is clear from the above that those buildings do not have a basement, so therefore we can easily fix the missing values."
   ]
  },
  {
   "cell_type": "code",
   "execution_count": 38,
   "metadata": {
    "collapsed": true
   },
   "outputs": [],
   "source": [
    "def BsmtFix(df):\n",
    "    if pd.isnull(df.BsmtFullBath) == True or pd.isnull(df.BsmtFinSF1) == True:\n",
    "        df['BsmtFinSF1'] = 0\n",
    "        df['BsmtFinSF2'] = 0\n",
    "        df['BsmtFullBath'] = 0\n",
    "        df['BsmtHalfBath'] = 0\n",
    "        df['BsmtQual'] = 'No Basement'\n",
    "        df['BsmtUnfSF'] = 0\n",
    "        \n",
    "    if  pd.isnull(df.BsmtQual) == True:\n",
    "        df['BsmtQual'] = 'No Basement'    \n",
    "    \n",
    "    #Set to the rating of the first basement type rating\n",
    "    if pd.isnull(df.BsmtFinType2) == True:\n",
    "        df['BsmtFinType2'] = df.BsmtFinType1\n",
    "    \n",
    "    return df\n",
    "\n",
    "df3 = df3.apply(BsmtFix,axis='columns')\n",
    "        \n",
    "        \n",
    "        \n",
    "        "
   ]
  },
  {
   "cell_type": "code",
   "execution_count": 39,
   "metadata": {
    "collapsed": false,
    "scrolled": true
   },
   "outputs": [
    {
     "data": {
      "text/plain": [
       "Electrical        1\n",
       "Exterior1st       1\n",
       "Exterior2nd       1\n",
       "Functional        2\n",
       "KitchenQual       1\n",
       "MasVnrArea       22\n",
       "MasVnrType       23\n",
       "SalePrice      1459\n",
       "SaleType          1\n",
       "TotalBsmtSF       1\n",
       "Utilities         2\n",
       "dtype: int64"
      ]
     },
     "execution_count": 39,
     "metadata": {},
     "output_type": "execute_result"
    }
   ],
   "source": [
    "df3.isnull().sum()[df3.isnull().sum() > 0]"
   ]
  },
  {
   "cell_type": "markdown",
   "metadata": {},
   "source": [
    "If MasVnrType is null, set the \"Unknown\" - and if the MasVnr Area not known then set value to -1"
   ]
  },
  {
   "cell_type": "code",
   "execution_count": 40,
   "metadata": {
    "collapsed": false
   },
   "outputs": [],
   "source": [
    "def MasVnrFix(df):\n",
    "    if pd.isnull(df.MasVnrType) == True and pd.isnull(df.MasVnrArea) == True:\n",
    "        df['MasVnrType'] = 'Unknown'\n",
    "        df['MasVnrArea'] = -1\n",
    "        \n",
    "    elif pd.isnull(df.MasVnrType) == True:\n",
    "        df['MasVnrType'] = 'Unknown'\n",
    "            \n",
    "    return df\n",
    "\n",
    "df3 = df3.apply(MasVnrFix,axis='columns')\n",
    "        "
   ]
  },
  {
   "cell_type": "code",
   "execution_count": 41,
   "metadata": {
    "collapsed": false
   },
   "outputs": [
    {
     "data": {
      "text/plain": [
       "Electrical        1\n",
       "Exterior1st       1\n",
       "Exterior2nd       1\n",
       "Functional        2\n",
       "KitchenQual       1\n",
       "SalePrice      1459\n",
       "SaleType          1\n",
       "TotalBsmtSF       1\n",
       "Utilities         2\n",
       "dtype: int64"
      ]
     },
     "execution_count": 41,
     "metadata": {},
     "output_type": "execute_result"
    }
   ],
   "source": [
    "df3.isnull().sum()[df3.isnull().sum() > 0]"
   ]
  },
  {
   "cell_type": "code",
   "execution_count": 42,
   "metadata": {
    "collapsed": false
   },
   "outputs": [
    {
     "data": {
      "text/plain": [
       "SBrkr    2641\n",
       "FuseA     186\n",
       "FuseF      49\n",
       "FuseP       8\n",
       "Mix         1\n",
       "Name: Electrical, dtype: int64"
      ]
     },
     "execution_count": 42,
     "metadata": {},
     "output_type": "execute_result"
    }
   ],
   "source": [
    "# House with missing electrical has all utilites, therefore assume most common electrical system\n",
    "df3[df3.Electrical.isnull()].Utilities\n",
    "df3.Electrical.value_counts()\n"
   ]
  },
  {
   "cell_type": "code",
   "execution_count": 43,
   "metadata": {
    "collapsed": false,
    "scrolled": true
   },
   "outputs": [
    {
     "data": {
      "text/plain": [
       "SaleCondition  SaleType\n",
       "Normal         WD          2301\n",
       "               COD           39\n",
       "               ConLD         21\n",
       "               CWD           10\n",
       "               ConLw          7\n",
       "               Con            4\n",
       "               ConLI          4\n",
       "               Oth            1\n",
       "Name: SaleType, dtype: int64"
      ]
     },
     "execution_count": 43,
     "metadata": {},
     "output_type": "execute_result"
    }
   ],
   "source": [
    "#What is the most common Sale Type given a Sale Condition\n",
    "df3[df3.SaleType.isnull()].SaleCondition\n",
    "\n",
    "#Warranty deed most common for Normal Sale\n",
    "df3[df3.SaleCondition =='Normal'].groupby('SaleCondition').SaleType.value_counts()"
   ]
  },
  {
   "cell_type": "code",
   "execution_count": 44,
   "metadata": {
    "collapsed": false
   },
   "outputs": [
    {
     "data": {
      "text/plain": [
       "Id\n",
       "2217    5\n",
       "2474    1\n",
       "Name: OverallCond, dtype: int64"
      ]
     },
     "execution_count": 44,
     "metadata": {},
     "output_type": "execute_result"
    }
   ],
   "source": [
    "# Where Functional home variable missing, sale is abnormal\n",
    "df3[df3.Functional.isnull()].SaleCondition\n",
    "\n",
    "#One is average condition and the other in poor condition, can assume typical or Minor deductions and Severly Damaged\n",
    "df3[df3.Functional.isnull()].OverallCond"
   ]
  },
  {
   "cell_type": "code",
   "execution_count": 45,
   "metadata": {
    "collapsed": false
   },
   "outputs": [
    {
     "data": {
      "text/plain": [
       "OverallCond  Utilities\n",
       "2            AllPub        9\n",
       "4            AllPub       99\n",
       "Name: Utilities, dtype: int64"
      ]
     },
     "execution_count": 45,
     "metadata": {},
     "output_type": "execute_result"
    }
   ],
   "source": [
    "#Overall Condition 2 and 4 respectively\n",
    "df3[df3.Utilities.isnull()].OverallCond\n",
    "\n",
    "#Looking at the most common utilities by house condition, seems all have AllPub\n",
    "df3[(df3.OverallCond == 2) | (df3.OverallCond == 4)  ].groupby('OverallCond').Utilities.value_counts()"
   ]
  },
  {
   "cell_type": "code",
   "execution_count": 46,
   "metadata": {
    "collapsed": false
   },
   "outputs": [
    {
     "data": {
      "text/plain": [
       "('WdShing', 'Wd Shng')"
      ]
     },
     "execution_count": 46,
     "metadata": {},
     "output_type": "execute_result"
    }
   ],
   "source": [
    "df3[(df3.Exterior1st.isnull()) & (df3.Exterior2nd.isnull())].BldgType\n",
    "\n",
    "#Most common Exterior 1st and 2nd is ('WdShing', 'Wd Shng')\n",
    "df3.groupby(['Exterior1st','Exterior2nd']).YrSold.count().index.max()\n"
   ]
  },
  {
   "cell_type": "code",
   "execution_count": 47,
   "metadata": {
    "collapsed": false
   },
   "outputs": [
    {
     "data": {
      "text/plain": [
       "Id\n",
       "1556    3\n",
       "Name: OverallCond, dtype: int64"
      ]
     },
     "execution_count": 47,
     "metadata": {},
     "output_type": "execute_result"
    }
   ],
   "source": [
    "#Overal conditon of house where kitchen quality variable missing - 3 (Fair)\n",
    "df3[df3.KitchenQual.isnull()].OverallCond"
   ]
  },
  {
   "cell_type": "code",
   "execution_count": 48,
   "metadata": {
    "collapsed": false
   },
   "outputs": [
    {
     "data": {
      "text/plain": [
       "Id\n",
       "2121    No Basement\n",
       "Name: BsmtCond, dtype: object"
      ]
     },
     "execution_count": 48,
     "metadata": {},
     "output_type": "execute_result"
    }
   ],
   "source": [
    "#No Basement therefore set value to 0\n",
    "df3[df3.TotalBsmtSF.isnull()].BsmtCond\n"
   ]
  },
  {
   "cell_type": "code",
   "execution_count": 49,
   "metadata": {
    "collapsed": false
   },
   "outputs": [],
   "source": [
    "def FixAll(df):\n",
    "    \n",
    "    #Electrical missing\n",
    "    if pd.isnull(df.Electrical) == True:\n",
    "        df['Electrical'] = \"SBrkr\"\n",
    "        \n",
    "    #Missing Sale Type\n",
    "    if pd.isnull(df.SaleType) == True:\n",
    "        df['SaleType'] = 'WD'\n",
    "    \n",
    "    #Missing functionality variable\n",
    "    if pd.isnull(df.Functional) == True:\n",
    "        if df.OverallCond == 5:\n",
    "            df['Functional'] = \"Typ\"\n",
    "        elif df.OverallCond == 1:\n",
    "            df['Functional'] = \"Sev\"\n",
    "    \n",
    "    #Missing utilties\n",
    "    if pd.isnull(df.Utilities) == True:\n",
    "        df[\"Utilities\"] = \"AllPub\"\n",
    "        \n",
    "    #Missing Exterior Materials\n",
    "    if pd.isnull(df.Exterior1st) == True:\n",
    "        df[\"Exterior1st\"] = 'WdShing'\n",
    "        df[\"Exterior2nd\"] = 'Wd Shng'\n",
    "        \n",
    "    #Missing kitchen quality\n",
    "    if pd.isnull(df.KitchenQual) == True:\n",
    "        df['KitchenQual'] = \"Fa\"\n",
    "        \n",
    "    #Missing Bsmt Total Area\n",
    "    if pd.isnull(df.TotalBsmtSF) == True:\n",
    "        df['TotalBsmtSF'] = 0\n",
    "        \n",
    "    return df\n",
    "\n",
    "df3 = df3.apply(FixAll,axis = 'columns')\n"
   ]
  },
  {
   "cell_type": "code",
   "execution_count": 50,
   "metadata": {
    "collapsed": false
   },
   "outputs": [
    {
     "data": {
      "text/plain": [
       "SalePrice    1459\n",
       "dtype: int64"
      ]
     },
     "execution_count": 50,
     "metadata": {},
     "output_type": "execute_result"
    }
   ],
   "source": [
    "df3.isnull().sum()[df3.isnull().sum() > 0]"
   ]
  },
  {
   "cell_type": "markdown",
   "metadata": {},
   "source": [
    "Great!, Now we have handled all missing values appropriately.\n",
    "\n",
    "Note that the missing values for SalePrices comes from the fact that we joined the training and test data set, where we are predicting the SalePrice for the test set.\n"
   ]
  },
  {
   "cell_type": "code",
   "execution_count": 51,
   "metadata": {
    "collapsed": true
   },
   "outputs": [],
   "source": [
    "df3.to_csv(\"DataALL_Cleaned.csv\")"
   ]
  }
 ],
 "metadata": {
  "kernelspec": {
   "display_name": "Python 3",
   "language": "python",
   "name": "python3"
  },
  "language_info": {
   "codemirror_mode": {
    "name": "ipython",
    "version": 3
   },
   "file_extension": ".py",
   "mimetype": "text/x-python",
   "name": "python",
   "nbconvert_exporter": "python",
   "pygments_lexer": "ipython3",
   "version": "3.6.0"
  }
 },
 "nbformat": 4,
 "nbformat_minor": 2
}
